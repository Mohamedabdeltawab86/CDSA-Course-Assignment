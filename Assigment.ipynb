{
 "cells": [
  {
   "cell_type": "markdown",
   "metadata": {},
   "source": [
    "# 1. Python Program to Generate a Random Number"
   ]
  },
  {
   "cell_type": "code",
   "execution_count": 9,
   "metadata": {},
   "outputs": [
    {
     "name": "stdout",
     "output_type": "stream",
     "text": [
      "enter the lower and upper limits of range: 1 5\n",
      "1\n"
     ]
    }
   ],
   "source": [
    "# import random library\n",
    "import random\n",
    "\n",
    "# take input from the user to specify the range of random number\n",
    "x , y = input(\"enter the lower and upper limits of range: \").split()\n",
    "\n",
    "# print a random random\n",
    "print(random.randint(int(x),int(y)))\n"
   ]
  },
  {
   "cell_type": "markdown",
   "metadata": {},
   "source": [
    "# 2. Python Program to Convert Celsius To Fahrenheit"
   ]
  },
  {
   "cell_type": "code",
   "execution_count": 12,
   "metadata": {},
   "outputs": [
    {
     "name": "stdout",
     "output_type": "stream",
     "text": [
      "enter the temperature in celsius34.5\n",
      "34.5 degree Celsius is equal to 94.1 degree Fahrenheit\n"
     ]
    }
   ],
   "source": [
    "\n",
    "# change this value for a different result\n",
    "celsius = float(input('enter the temperature in celsius'))\n",
    "\n",
    "# calculate fahrenheit\n",
    "fahrenheit = (celsius * 1.8) + 32\n",
    "print(f'{celsius:.1f} degree Celsius is equal to {fahrenheit:.1f} degree Fahrenheit')"
   ]
  },
  {
   "cell_type": "markdown",
   "metadata": {},
   "source": [
    "# 3. The Hashtag Generator"
   ]
  },
  {
   "cell_type": "code",
   "execution_count": 7,
   "metadata": {},
   "outputs": [
    {
     "name": "stdout",
     "output_type": "stream",
     "text": [
      "#Best_Radiology_Reference_The_World_Has_Ever_Seen\n",
      "False\n",
      "False\n"
     ]
    }
   ],
   "source": [
    "def generate_hash(text):\n",
    "    '''     \n",
    "    It must start with a hashtag (#).\n",
    "    All words must have their first letter capitalized.\n",
    "    If the final result is longer than 140 chars it must return false.\n",
    "    If the input or the result is an empty string it must return false.\n",
    "    '''\n",
    "    return '#' + '_'.join([word.title() for word in text.split()]) if text and len(text) <= 140 else False\n",
    "\n",
    "print(generate_hash('best radiology reference the world has ever seen'))\n",
    "print(generate_hash('Radiopaedia’s mission is to create the best radiology reference the world has ever seen and to make it available for free, for ever, for all.'))\n",
    "print(generate_hash(''))\n"
   ]
  },
  {
   "cell_type": "markdown",
   "metadata": {},
   "source": [
    "# 4. Python Program to Check Whether a String is Palindrome or Not"
   ]
  },
  {
   "cell_type": "code",
   "execution_count": 16,
   "metadata": {},
   "outputs": [
    {
     "name": "stdout",
     "output_type": "stream",
     "text": [
      "Yes\n"
     ]
    }
   ],
   "source": [
    "\n",
    "# function which return reverse of a string\n",
    " \n",
    "def isPalindrome(s):\n",
    "    return s == s[::-1]\n",
    " \n",
    " \n",
    "# Driver code\n",
    "s = \"malayalam\"\n",
    "ans = isPalindrome(s)\n",
    " \n",
    "if ans:\n",
    "    print(\"Yes\")\n",
    "else:\n",
    "    print(\"No\")\n"
   ]
  },
  {
   "cell_type": "markdown",
   "metadata": {},
   "source": [
    "# 5. Python Program to Sort Words in Alphabetic Order"
   ]
  },
  {
   "cell_type": "code",
   "execution_count": 18,
   "metadata": {},
   "outputs": [
    {
     "name": "stdout",
     "output_type": "stream",
     "text": [
      "Program\n",
      "a\n",
      "alphabetically\n",
      "by\n",
      "form\n",
      "provided\n",
      "sort\n",
      "string\n",
      "the\n",
      "the\n",
      "to\n",
      "user\n",
      "words\n"
     ]
    }
   ],
   "source": [
    "    # Program to sort alphabetically the words form a string provided by the user\n",
    "     \n",
    "    # take input from the user\n",
    "    my_str =  'Program to sort alphabetically the words form a string provided by the user'\n",
    "    \n",
    "    # breakdown the string into a list of words\n",
    "    words = my_str.split()\n",
    "     \n",
    "    # sort the list\n",
    "    words.sort()\n",
    "     \n",
    "    # display the sorted words\n",
    "    for word in words:\n",
    "       print(word)"
   ]
  },
  {
   "cell_type": "markdown",
   "metadata": {},
   "source": [
    "# 6. Readable Time "
   ]
  },
  {
   "cell_type": "code",
   "execution_count": 10,
   "metadata": {},
   "outputs": [
    {
     "name": "stdout",
     "output_type": "stream",
     "text": [
      "99:59:59\n",
      "42:13:19\n"
     ]
    }
   ],
   "source": [
    "def make_readable(seconds):\n",
    "    '''\n",
    "    Write a function, which takes a non-negative integer (seconds) as input and returns the time in a human-readable format (HH:MM:SS)\n",
    "\n",
    "        HH = hours, padded to 2 digits, range: 00 - 99\n",
    "        MM = minutes, padded to 2 digits, range: 00 - 59\n",
    "        SS = seconds, padded to 2 digits, range: 00 - 59\n",
    "\n",
    "    The maximum time never exceeds 359999 (99:59:59)\n",
    "    '''\n",
    "    hr = 0\n",
    "    min = 0\n",
    "    sec = 0\n",
    "    hr = seconds//3600\n",
    "    seconds = seconds % 3600\n",
    "    min = seconds//60\n",
    "    seconds = seconds % 60\n",
    "    sec = seconds\n",
    "\n",
    "    return f'{hr:02d}:{min:02d}:{sec:02d}'\n",
    "\n",
    "print(make_readable(359999))\n",
    "print(make_readable(151999))\n",
    "\n"
   ]
  },
  {
   "cell_type": "code",
   "execution_count": null,
   "metadata": {},
   "outputs": [],
   "source": []
  }
 ],
 "metadata": {
  "kernelspec": {
   "display_name": "Python 3",
   "language": "python",
   "name": "python3"
  },
  "language_info": {
   "codemirror_mode": {
    "name": "ipython",
    "version": 3
   },
   "file_extension": ".py",
   "mimetype": "text/x-python",
   "name": "python",
   "nbconvert_exporter": "python",
   "pygments_lexer": "ipython3",
   "version": "3.8.5"
  }
 },
 "nbformat": 4,
 "nbformat_minor": 4
}
